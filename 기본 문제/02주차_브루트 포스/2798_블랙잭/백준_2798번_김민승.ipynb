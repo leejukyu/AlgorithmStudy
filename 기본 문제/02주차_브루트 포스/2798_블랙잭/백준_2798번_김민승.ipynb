{
  "nbformat": 4,
  "nbformat_minor": 0,
  "metadata": {
    "colab": {
      "name": "백준 2798번_김민승.ipynb",
      "provenance": []
    },
    "kernelspec": {
      "name": "python3",
      "display_name": "Python 3"
    },
    "language_info": {
      "name": "python"
    }
  },
  "cells": [
    {
      "cell_type": "code",
      "metadata": {
        "id": "ucpmHnY5zDF1"
      },
      "source": [
        "from sys import stdin\n",
        "\n",
        "n, goal = map(int, stdin.readline().split())        #입력 값\n",
        "card = list(map(int, stdin.readline().split()))\n",
        "\n",
        "answer = 0                                          #수를 계산해서 답을 내놓을 변수 하나 만들기\n",
        "\n",
        "for i in card:\n",
        "    for j in card:\n",
        "        for k in card:\n",
        "            if i != j and j != k and k != i:        #3개의 경우가 필요한데 서로가 겹치면 안되니까 조건문 걸어줌\n",
        "                a = i + j + k                       #n개의 숫자 중에 무작위로 겹치지 않는 수 3개를 선정해서 더함\n",
        "                if answer <= a <= goal:             #이때 목표로 정해둔 수(goal)에 최대한 가까워야해서 조건문 설정\n",
        "                    answer =+ a                     #3개를 더해서 목표값보다 적을 경우 answer을 업데이트\n",
        "                                                    #a를 처음에 출력했었는데 그러자 목표값을 초과.\n",
        "                                                    #answer 다음으로 큰 수에서 계산이 멈추기 때문인 듯.\n",
        "\n",
        "print(answer)"
      ],
      "execution_count": null,
      "outputs": []
    }
  ]
}