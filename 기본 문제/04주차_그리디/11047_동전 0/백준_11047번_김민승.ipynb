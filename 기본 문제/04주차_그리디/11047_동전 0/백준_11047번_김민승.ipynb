{
  "nbformat": 4,
  "nbformat_minor": 0,
  "metadata": {
    "colab": {
      "name": "백준 11047번_김민승.ipynb",
      "provenance": [],
      "collapsed_sections": []
    },
    "kernelspec": {
      "name": "python3",
      "display_name": "Python 3"
    },
    "language_info": {
      "name": "python"
    }
  },
  "cells": [
    {
      "cell_type": "code",
      "metadata": {
        "id": "xk89SSXlzWOT"
      },
      "source": [
        "from sys import stdin\n",
        "\n",
        "n, pay = map(int, stdin.readline().split())\n",
        "money = []\n",
        "\n",
        "for i in range(n):\n",
        "    coin = int(stdin.readline())\n",
        "    money.append(coin)                     #입력한 동전들 리스트에 추가\n",
        "    money.sort(reverse=True)               #내림차순으로 정렬\n",
        "\n",
        "answer = []\n",
        "\n",
        "for i in money:\n",
        "    count = pay // i                       #값을 money리스트의 원소로 나누었을 때의 몫 구하기\n",
        "    answer.append(count)                   #그 몫을 답지 리스트에 추가\n",
        "    pay = pay - count * i                  #값이 그대로 유지가 되면 원하는 답이 나오지 않기 때문에 하나의 계산이 끝날 때 그만큼의 값을 원래 값에서 차감\n",
        "\n",
        "print(sum(answer))                         #답지 리스트에 들어간 몫들을 모두 더하기"
      ],
      "execution_count": null,
      "outputs": []
    }
  ]
}