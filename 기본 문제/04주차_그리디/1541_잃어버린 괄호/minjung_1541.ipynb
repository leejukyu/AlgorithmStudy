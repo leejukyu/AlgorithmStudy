{
 "cells": [
  {
   "cell_type": "markdown",
   "id": "d70e8ec8",
   "metadata": {},
   "source": [
    "# 백준 제출용"
   ]
  },
  {
   "cell_type": "code",
   "execution_count": 106,
   "id": "5a969225",
   "metadata": {
    "scrolled": true
   },
   "outputs": [
    {
     "name": "stdout",
     "output_type": "stream",
     "text": [
      "40 - 50 + 100\n",
      "-110\n"
     ]
    }
   ],
   "source": [
    "# 식 입력\n",
    "eq = input()\n",
    "\n",
    "# 숫자와 수식 분리하여 한 리스트에다 저장\n",
    "num = ['']\n",
    "for i in eq:\n",
    "    if i not in ['-','+']:\n",
    "        num[-1] += i\n",
    "    else:\n",
    "        num.append('')\n",
    "        num[-1] += i\n",
    "        num.append('')\n",
    "    \n",
    "# + 연산\n",
    "i = 0\n",
    "while i != len(num) -1 :\n",
    "    if num[i] == '+':\n",
    "        num[i-1] = int(num[i-1]) + int(num[i+1])\n",
    "        del num[i+1]\n",
    "        del num[i]\n",
    "        i -= 2\n",
    "    i+=1\n",
    "    \n",
    "# - 연산\n",
    "i = 0\n",
    "while i != len(num) -1 :\n",
    "    if num[i] == '-':\n",
    "        num[i-1] = int(num[i-1]) - int(num[i+1])\n",
    "        del num[i+1]\n",
    "        del num[i]\n",
    "        i -= 2\n",
    "    i+=1\n",
    "\n",
    "print(num[0])"
   ]
  },
  {
   "cell_type": "markdown",
   "id": "4a4b3135",
   "metadata": {},
   "source": [
    "# 값 입력 받기"
   ]
  },
  {
   "cell_type": "code",
   "execution_count": 55,
   "id": "105f2d02",
   "metadata": {
    "scrolled": false
   },
   "outputs": [
    {
     "name": "stdout",
     "output_type": "stream",
     "text": [
      "55-50+40+20\n"
     ]
    }
   ],
   "source": [
    "eq = input()"
   ]
  },
  {
   "cell_type": "markdown",
   "id": "621c40a8",
   "metadata": {},
   "source": [
    "# 받은 문자열 숫자와 수식을 분리하여 num 리스트에 다시 저장"
   ]
  },
  {
   "cell_type": "code",
   "execution_count": 117,
   "id": "a0bde3be",
   "metadata": {
    "scrolled": true
   },
   "outputs": [
    {
     "name": "stdout",
     "output_type": "stream",
     "text": [
      "['']\n",
      "4\n",
      "0\n",
      " \n",
      "-\n",
      " \n",
      "5\n",
      "0\n",
      " \n",
      "+\n",
      " \n",
      "1\n",
      "0\n",
      "0\n"
     ]
    }
   ],
   "source": [
    "num = ['']\n",
    "print(num)\n",
    "for i in eq:\n",
    "    print(i)\n",
    "    if i not in ['-','+']:\n",
    "        num[-1] += i\n",
    "    else:\n",
    "        num.append('')\n",
    "        num[-1] += i\n",
    "        num.append('')"
   ]
  },
  {
   "cell_type": "markdown",
   "id": "b4857ab7",
   "metadata": {},
   "source": [
    "# 테스트"
   ]
  },
  {
   "cell_type": "code",
   "execution_count": 118,
   "id": "ddaa9a42",
   "metadata": {
    "scrolled": true
   },
   "outputs": [
    {
     "data": {
      "text/plain": [
       "False"
      ]
     },
     "execution_count": 118,
     "metadata": {},
     "output_type": "execute_result"
    }
   ],
   "source": [
    "'5' in ['-','+']"
   ]
  },
  {
   "cell_type": "markdown",
   "id": "f14debfd",
   "metadata": {},
   "source": [
    "# 잘 분리 되어 저장이 되었는지 확인"
   ]
  },
  {
   "cell_type": "code",
   "execution_count": 119,
   "id": "8d22bce9",
   "metadata": {},
   "outputs": [
    {
     "data": {
      "text/plain": [
       "['40 ', '-', ' 50 ', '+', ' 100']"
      ]
     },
     "execution_count": 119,
     "metadata": {},
     "output_type": "execute_result"
    }
   ],
   "source": [
    "num"
   ]
  },
  {
   "cell_type": "markdown",
   "id": "54722881",
   "metadata": {},
   "source": [
    "# 덧셈 연산부터 하기"
   ]
  },
  {
   "cell_type": "code",
   "execution_count": 120,
   "id": "c0bfa905",
   "metadata": {},
   "outputs": [
    {
     "name": "stdout",
     "output_type": "stream",
     "text": [
      "True\n"
     ]
    }
   ],
   "source": [
    "i = 0\n",
    "while i != len(num) -1 :\n",
    "    if num[i] == '+':\n",
    "        print(num[i]=='+')\n",
    "        num[i-1] = int(num[i-1]) + int(num[i+1])\n",
    "        del num[i+1]\n",
    "        del num[i]\n",
    "        i -= 2\n",
    "    i+=1\n",
    "    "
   ]
  },
  {
   "cell_type": "code",
   "execution_count": 121,
   "id": "dab5409b",
   "metadata": {
    "scrolled": true
   },
   "outputs": [
    {
     "data": {
      "text/plain": [
       "['40 ', '-', 150]"
      ]
     },
     "execution_count": 121,
     "metadata": {},
     "output_type": "execute_result"
    }
   ],
   "source": [
    "num"
   ]
  },
  {
   "cell_type": "markdown",
   "id": "0ed7a4ab",
   "metadata": {},
   "source": [
    "# 뺄셈 연산 하기"
   ]
  },
  {
   "cell_type": "code",
   "execution_count": 122,
   "id": "f5622bcd",
   "metadata": {
    "scrolled": true
   },
   "outputs": [
    {
     "name": "stdout",
     "output_type": "stream",
     "text": [
      "True\n"
     ]
    }
   ],
   "source": [
    "i = 0\n",
    "while i != len(num) -1 :\n",
    "    if num[i] == '-':\n",
    "        print(num[i]=='-')\n",
    "        num[i-1] = int(num[i-1]) - int(num[i+1])\n",
    "        del num[i+1]\n",
    "        del num[i]\n",
    "        i -= 2\n",
    "    i+=1\n",
    " "
   ]
  },
  {
   "cell_type": "markdown",
   "id": "d3122462",
   "metadata": {},
   "source": [
    "# 최종결과"
   ]
  },
  {
   "cell_type": "code",
   "execution_count": 123,
   "id": "23c63662",
   "metadata": {},
   "outputs": [
    {
     "name": "stdout",
     "output_type": "stream",
     "text": [
      "-110\n"
     ]
    }
   ],
   "source": [
    "print(num[0])"
   ]
  },
  {
   "cell_type": "code",
   "execution_count": null,
   "id": "822b59ff",
   "metadata": {},
   "outputs": [],
   "source": []
  }
 ],
 "metadata": {
  "kernelspec": {
   "display_name": "Python 3 (ipykernel)",
   "language": "python",
   "name": "python3"
  },
  "language_info": {
   "codemirror_mode": {
    "name": "ipython",
    "version": 3
   },
   "file_extension": ".py",
   "mimetype": "text/x-python",
   "name": "python",
   "nbconvert_exporter": "python",
   "pygments_lexer": "ipython3",
   "version": "3.8.10"
  }
 },
 "nbformat": 4,
 "nbformat_minor": 5
}
